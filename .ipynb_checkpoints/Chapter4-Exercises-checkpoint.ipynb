{
 "cells": [
  {
   "cell_type": "markdown",
   "id": "f424358b",
   "metadata": {},
   "source": [
    "## Assignment 4\n",
    "\n",
    "<br>\n",
    "\n",
    "### Question 1\n",
    "Investigate the model for predicting Diabetes disease progression by adding more explanatory variables to it in addition to `bmi` and `s5`.\n",
    "\n",
    "a) Which variable would you add next? Why?\n",
    "\n",
    "b) How does adding it affect the model's performance? Compute metrics and compare to having just `bmi` and `s5`.\n",
    "\n",
    "d) Does it help if you add even more variables?\n",
    "\n",
    "Include your own findings and explanations in code comments or inside triple quotes \"\"\"...\"\"\"."
   ]
  },
  {
   "cell_type": "markdown",
   "id": "83506504",
   "metadata": {},
   "source": [
    "### Question 2\n",
    "\n",
    "Consider the dataset `50_Startups.csv` which contains data for companies' profit etc.\n",
    "\n",
    "a) Read the dataset into pandas dataframe paying attention to file delimeter.\n",
    "\n",
    "b) Identify the variables inside the dataset\n",
    "\n",
    "c) Investigate the correlation between the variables\n",
    "\n",
    "d) Choose appropriate variables to predict company profit. Justify your choice.\n",
    "\n",
    "e) Plot explanatory variables against profit in order to confirm (close to) linear dependence\n",
    "\n",
    "f) Form training and testing data (80/20 split)\n",
    "\n",
    "g) Train linear regression model with training data\n",
    "\n",
    "h) Compute RMSE and $R^2$ values for training and testing data separately\n",
    "\n",
    "Include your own findings and explanations in code comments or inside triple quotes \"\"\"...\"\"\"."
   ]
  },
  {
   "cell_type": "markdown",
   "id": "9dd9b7c7",
   "metadata": {},
   "source": [
    "### Question 3\n",
    "\n",
    "Consider car performance data from the file `Auto.csv`.\n",
    "\n",
    "a) Read the data into pandas dataframe\n",
    "\n",
    "b) Setup multiple regression `X` and `y` to predict `mpg` of cars using all the variables except `mpg`, `name` and `origin`.\n",
    "\n",
    "c) Split data into training and testing sets (80/20 split)\n",
    "\n",
    "d) Implement both ridge regression and LASSO regression using several values for alpha\n",
    "\n",
    "e) Search optimal value for alpha (in terms of R2 score) by fitting the models with training data and computing the score using testing data\n",
    "\n",
    "f) Plot the R2 scores for both regressors as functions of alpha\n",
    "\n",
    "g) Identify, as accurately as you can, the value for alpha which gives the best score\n",
    "\n",
    " \n",
    "Include your own findings and explanations in code comments or inside triple quotes \"\"\"...\"\"\"."
   ]
  }
 ],
 "metadata": {
  "kernelspec": {
   "display_name": "Python 3 (ipykernel)",
   "language": "python",
   "name": "python3"
  },
  "language_info": {
   "codemirror_mode": {
    "name": "ipython",
    "version": 3
   },
   "file_extension": ".py",
   "mimetype": "text/x-python",
   "name": "python",
   "nbconvert_exporter": "python",
   "pygments_lexer": "ipython3",
   "version": "3.11.4"
  }
 },
 "nbformat": 4,
 "nbformat_minor": 5
}
